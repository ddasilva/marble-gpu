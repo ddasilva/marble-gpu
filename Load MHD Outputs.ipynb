{
 "cells": [
  {
   "cell_type": "code",
   "execution_count": null,
   "id": "0",
   "metadata": {},
   "outputs": [],
   "source": [
    "from spacepy.pybats import bats\n",
    "from scipy.constants import m_p\n",
    "from astropy import units as u\n",
    "import numpy as np"
   ]
  },
  {
   "cell_type": "code",
   "execution_count": null,
   "id": "1",
   "metadata": {},
   "outputs": [],
   "source": [
    "BATS_FILE = '/home/dedasilv/data/3d__var_4_t00030600_n00022500.out'"
   ]
  },
  {
   "cell_type": "code",
   "execution_count": null,
   "id": "2",
   "metadata": {},
   "outputs": [],
   "source": [
    "mhd = bats.IdlFile(BATS_FILE)"
   ]
  },
  {
   "cell_type": "code",
   "execution_count": null,
   "id": "3",
   "metadata": {},
   "outputs": [],
   "source": [
    "mhd.keys()"
   ]
  },
  {
   "cell_type": "markdown",
   "id": "4",
   "metadata": {},
   "source": [
    "# Coordinates"
   ]
  },
  {
   "cell_type": "code",
   "execution_count": null,
   "id": "5",
   "metadata": {},
   "outputs": [],
   "source": [
    "x = mhd['x'] * u.R_earth\n",
    "y = mhd['y'] * u.R_earth\n",
    "z = mhd['z'] * u.R_earth"
   ]
  },
  {
   "cell_type": "markdown",
   "id": "6",
   "metadata": {},
   "source": [
    "# Number Density"
   ]
  },
  {
   "cell_type": "code",
   "execution_count": null,
   "id": "7",
   "metadata": {},
   "outputs": [],
   "source": [
    "n = mhd['rho'] / m_p / 1e27\n",
    "n *= u.cm**(-3)\n",
    "\n",
    "plt.title('number density')\n",
    "plt.hist(n, bins=40)\n",
    "plt.xlabel('$cm^{-3}$')\n",
    "None"
   ]
  },
  {
   "cell_type": "markdown",
   "id": "8",
   "metadata": {},
   "source": [
    "# Magnetic Field"
   ]
  },
  {
   "cell_type": "code",
   "execution_count": null,
   "id": "9",
   "metadata": {},
   "outputs": [],
   "source": [
    "bx = mhd['bx'] * u.nT\n",
    "by = mhd['by'] * u.nT\n",
    "bz = mhd['bz'] * u.nT\n",
    "btotal = np.sqrt(bx**2 + by**2 + bz**2)"
   ]
  },
  {
   "cell_type": "code",
   "execution_count": null,
   "id": "10",
   "metadata": {},
   "outputs": [],
   "source": [
    "mask = (z < .1*u.R_earth) & (z > -.1*u.R_earth) & (x > 0 * u.R_earth)\n",
    "from matplotlib.colors import LogNorm\n",
    "\n",
    "plt.scatter(x.value[mask], y.value[mask], c=btotal.value[mask], norm=LogNorm())\n",
    "plt.colorbar()"
   ]
  },
  {
   "cell_type": "markdown",
   "id": "11",
   "metadata": {},
   "source": [
    "# Flow Velocity"
   ]
  },
  {
   "cell_type": "code",
   "execution_count": null,
   "id": "12",
   "metadata": {},
   "outputs": [],
   "source": [
    "ux = mhd['ux'] * u.km/u.s\n",
    "uy = mhd['uy'] * u.km/u.s\n",
    "uz = mhd['uz'] * u.km/u.s\n",
    "utotal = np.sqrt(ux**2 + uy**2 + uz**2)"
   ]
  },
  {
   "cell_type": "code",
   "execution_count": null,
   "id": "13",
   "metadata": {},
   "outputs": [],
   "source": [
    "plt.hist(utotal, bins=40)\n",
    "plt.xlabel('km/s')\n",
    "plt.title('flow speed')\n",
    "None"
   ]
  },
  {
   "cell_type": "markdown",
   "id": "14",
   "metadata": {},
   "source": [
    "# Electric Field"
   ]
  },
  {
   "cell_type": "code",
   "execution_count": null,
   "id": "15",
   "metadata": {},
   "outputs": [],
   "source": [
    "Ex, Ey, Ez = -np.cross([ux, uy, uz], [bx, by, bz], axis=0)\n",
    "Ex.shape"
   ]
  },
  {
   "cell_type": "code",
   "execution_count": null,
   "id": "16",
   "metadata": {},
   "outputs": [],
   "source": [
    "units = bx.unit * ux.unit\n",
    "Ex *= units\n",
    "Ey *= units\n",
    "Ez *= units\n",
    "\n",
    "better_units = u.mV/u.m\n",
    "Ex = Ex.to(better_units)\n",
    "Ey = Ey.to(better_units)\n",
    "Ez = Ez.to(better_units)\n",
    "Etotal = np.sqrt(Ex**2 + Ey**2 + Ez**2)"
   ]
  },
  {
   "cell_type": "code",
   "execution_count": null,
   "id": "17",
   "metadata": {},
   "outputs": [],
   "source": [
    "plt.hist(Etotal, bins=40)\n",
    "plt.title('Etotal')\n",
    "plt.xlabel('mV/m')\n",
    "None"
   ]
  },
  {
   "cell_type": "markdown",
   "id": "18",
   "metadata": {},
   "source": [
    "# Pressure"
   ]
  },
  {
   "cell_type": "code",
   "execution_count": null,
   "id": "19",
   "metadata": {},
   "outputs": [],
   "source": [
    "p = mhd['p'] * u.nPa\n",
    "T = (p / n).to(u.eV)"
   ]
  },
  {
   "cell_type": "code",
   "execution_count": null,
   "id": "20",
   "metadata": {},
   "outputs": [],
   "source": [
    "plt.hist(p, bins=40)\n",
    "plt.title('Pressure')\n",
    "plt.xlabel('nPa')\n",
    "None"
   ]
  },
  {
   "cell_type": "code",
   "execution_count": null,
   "id": "21",
   "metadata": {},
   "outputs": [],
   "source": [
    "plt.hist(T, bins=40)\n",
    "plt.title('Temperature')\n",
    "plt.xlabel('eV')\n",
    "None"
   ]
  }
 ],
 "metadata": {
  "kernelspec": {
   "display_name": "Python 3 (ipykernel)",
   "language": "python",
   "name": "python3"
  },
  "language_info": {
   "codemirror_mode": {
    "name": "ipython",
    "version": 3
   },
   "file_extension": ".py",
   "mimetype": "text/x-python",
   "name": "python",
   "nbconvert_exporter": "python",
   "pygments_lexer": "ipython3",
   "version": "3.11.12"
  }
 },
 "nbformat": 4,
 "nbformat_minor": 5
}
