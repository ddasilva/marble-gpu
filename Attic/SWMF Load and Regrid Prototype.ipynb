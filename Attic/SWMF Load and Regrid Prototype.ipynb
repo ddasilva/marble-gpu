{
 "cells": [
  {
   "cell_type": "code",
   "execution_count": null,
   "id": "0",
   "metadata": {},
   "outputs": [],
   "source": [
    "from spacepy.pybats import bats\n",
    "from scipy.constants import m_p\n",
    "from astropy import units as u\n",
    "import numpy as np"
   ]
  },
  {
   "cell_type": "code",
   "execution_count": null,
   "id": "1",
   "metadata": {},
   "outputs": [],
   "source": [
    "BATS_FILE = '/home/dedasilv/data/3d__var_4_t00030600_n00022500.out'"
   ]
  },
  {
   "cell_type": "code",
   "execution_count": null,
   "id": "2",
   "metadata": {},
   "outputs": [],
   "source": [
    "mhd = bats.IdlFile(BATS_FILE)"
   ]
  },
  {
   "cell_type": "code",
   "execution_count": null,
   "id": "3",
   "metadata": {},
   "outputs": [],
   "source": [
    "mhd.keys()"
   ]
  },
  {
   "cell_type": "markdown",
   "id": "4",
   "metadata": {},
   "source": [
    "# Coordinates"
   ]
  },
  {
   "cell_type": "code",
   "execution_count": null,
   "id": "5",
   "metadata": {},
   "outputs": [],
   "source": [
    "x = mhd['x'] * u.R_earth\n",
    "y = mhd['y'] * u.R_earth\n",
    "z = mhd['z'] * u.R_earth"
   ]
  },
  {
   "cell_type": "markdown",
   "id": "6",
   "metadata": {},
   "source": [
    "# Number Density"
   ]
  },
  {
   "cell_type": "code",
   "execution_count": null,
   "id": "7",
   "metadata": {},
   "outputs": [],
   "source": [
    "n = mhd['rho'] / m_p / 1e27\n",
    "n *= u.cm**(-3)\n",
    "\n",
    "plt.title('number density')\n",
    "plt.hist(n, bins=40)\n",
    "plt.xlabel('$cm^{-3}$')\n",
    "None"
   ]
  },
  {
   "cell_type": "markdown",
   "id": "8",
   "metadata": {},
   "source": [
    "# Magnetic Field"
   ]
  },
  {
   "cell_type": "code",
   "execution_count": null,
   "id": "9",
   "metadata": {},
   "outputs": [],
   "source": [
    "bx = mhd['bx'] * u.nT\n",
    "by = mhd['by'] * u.nT\n",
    "bz = mhd['bz'] * u.nT\n",
    "btotal = np.sqrt(bx**2 + by**2 + bz**2)"
   ]
  },
  {
   "cell_type": "code",
   "execution_count": null,
   "id": "10",
   "metadata": {},
   "outputs": [],
   "source": [
    "mask = (z < .1*u.R_earth) & (z > -.1*u.R_earth) & (x > 0 * u.R_earth)\n",
    "from matplotlib.colors import LogNorm\n",
    "\n",
    "plt.scatter(x.value[mask], y.value[mask], c=btotal.value[mask], norm=LogNorm())\n",
    "plt.colorbar()"
   ]
  },
  {
   "cell_type": "markdown",
   "id": "11",
   "metadata": {},
   "source": [
    "# Flow Velocity"
   ]
  },
  {
   "cell_type": "code",
   "execution_count": null,
   "id": "12",
   "metadata": {},
   "outputs": [],
   "source": [
    "ux = mhd['ux'] * u.km/u.s\n",
    "uy = mhd['uy'] * u.km/u.s\n",
    "uz = mhd['uz'] * u.km/u.s\n",
    "utotal = np.sqrt(ux**2 + uy**2 + uz**2)"
   ]
  },
  {
   "cell_type": "code",
   "execution_count": null,
   "id": "13",
   "metadata": {},
   "outputs": [],
   "source": [
    "plt.hist(utotal, bins=40)\n",
    "plt.xlabel('km/s')\n",
    "plt.title('flow speed')\n",
    "None"
   ]
  },
  {
   "cell_type": "markdown",
   "id": "14",
   "metadata": {},
   "source": [
    "# Electric Field"
   ]
  },
  {
   "cell_type": "code",
   "execution_count": null,
   "id": "15",
   "metadata": {},
   "outputs": [],
   "source": [
    "Ex, Ey, Ez = -np.cross([ux, uy, uz], [bx, by, bz], axis=0)\n",
    "Ex.shape"
   ]
  },
  {
   "cell_type": "code",
   "execution_count": null,
   "id": "16",
   "metadata": {},
   "outputs": [],
   "source": [
    "units = bx.unit * ux.unit\n",
    "Ex *= units\n",
    "Ey *= units\n",
    "Ez *= units\n",
    "\n",
    "better_units = u.mV/u.m\n",
    "Ex = Ex.to(better_units)\n",
    "Ey = Ey.to(better_units)\n",
    "Ez = Ez.to(better_units)\n",
    "Etotal = np.sqrt(Ex**2 + Ey**2 + Ez**2)"
   ]
  },
  {
   "cell_type": "code",
   "execution_count": null,
   "id": "17",
   "metadata": {},
   "outputs": [],
   "source": [
    "plt.hist(Etotal, bins=40)\n",
    "plt.title('Etotal')\n",
    "plt.xlabel('mV/m')\n",
    "None"
   ]
  },
  {
   "cell_type": "markdown",
   "id": "18",
   "metadata": {},
   "source": [
    "# Pressure"
   ]
  },
  {
   "cell_type": "code",
   "execution_count": null,
   "id": "19",
   "metadata": {},
   "outputs": [],
   "source": [
    "p = mhd['p'] * u.nPa\n",
    "T = (p / n).to(u.eV)"
   ]
  },
  {
   "cell_type": "code",
   "execution_count": null,
   "id": "20",
   "metadata": {},
   "outputs": [],
   "source": [
    "plt.hist(p, bins=40)\n",
    "plt.title('Pressure')\n",
    "plt.xlabel('nPa')\n",
    "None"
   ]
  },
  {
   "cell_type": "code",
   "execution_count": null,
   "id": "21",
   "metadata": {},
   "outputs": [],
   "source": [
    "plt.hist(T, bins=40)\n",
    "plt.title('Temperature')\n",
    "plt.xlabel('eV')\n",
    "None"
   ]
  },
  {
   "cell_type": "markdown",
   "id": "22",
   "metadata": {},
   "source": [
    "# Test Regrid"
   ]
  },
  {
   "cell_type": "code",
   "execution_count": null,
   "id": "23",
   "metadata": {},
   "outputs": [],
   "source": [
    "import pyvista as pv\n",
    "import vtk\n",
    "import time"
   ]
  },
  {
   "cell_type": "code",
   "execution_count": null,
   "id": "24",
   "metadata": {},
   "outputs": [],
   "source": [
    "xaxis = np.arange(-15, 15, .15)\n",
    "yaxis = np.arange(-15, 15, .15)\n",
    "zaxis = np.arange(-5, 5, .15)\n",
    "X, Y, Z = np.meshgrid(xaxis, yaxis, zaxis)"
   ]
  },
  {
   "cell_type": "code",
   "execution_count": null,
   "id": "25",
   "metadata": {},
   "outputs": [],
   "source": [
    "point_cloud = pv.PolyData(np.transpose([x, y, z]))\n",
    "point_cloud['Bx'] = bx.flatten(order='F')\n",
    "point_cloud['By'] = by.flatten(order='F')\n",
    "point_cloud['Bz'] = bz.flatten(order='F')\n",
    "point_cloud['Ex'] = Ex.flatten(order='F')\n",
    "point_cloud['Ey'] = Ey.flatten(order='F')\n",
    "point_cloud['Ez'] = Ez.flatten(order='F')\n",
    "point_cloud['n'] = n.flatten(order='F')\n",
    "point_cloud['T'] = T.flatten(order='F')"
   ]
  },
  {
   "cell_type": "code",
   "execution_count": null,
   "id": "26",
   "metadata": {},
   "outputs": [],
   "source": [
    "start_time = time.time()\n",
    "\n",
    "points_search = pv.PolyData(np.transpose([X.flatten(), Y.flatten(), Z.flatten()]))\n",
    "interp = vtk.vtkPointInterpolator()  \n",
    "interp.SetInputData(points_search)\n",
    "interp.SetSourceData(point_cloud)\n",
    "interp.GetKernel().SetRadius(0.1)\n",
    "interp.Update()\n",
    "\n",
    "interp_result = pv.PolyData(interp.GetOutput())\n",
    "\n",
    "print('took', time.time() - start_time, 's')"
   ]
  },
  {
   "cell_type": "code",
   "execution_count": null,
   "id": "27",
   "metadata": {},
   "outputs": [],
   "source": [
    "# Make MagneticFieldModel\n",
    "x_grid = interp_result.points[:, 0].reshape(X.shape)\n",
    "y_grid = interp_result.points[:, 1].reshape(X.shape)\n",
    "z_grid = interp_result.points[:, 2].reshape(X.shape)\n",
    "r_grid = np.sqrt(x_grid**2 + y_grid**2 + z_grid**2)\n",
    "\n",
    "Bx_regrid = interp_result['Bx'].reshape(X.shape)\n",
    "By_regrid = interp_result['By'].reshape(X.shape)\n",
    "Bz_regrid = interp_result['Bz'].reshape(X.shape)"
   ]
  },
  {
   "cell_type": "code",
   "execution_count": null,
   "id": "28",
   "metadata": {},
   "outputs": [],
   "source": [
    "Bz_regrid.shape"
   ]
  },
  {
   "cell_type": "markdown",
   "id": "29",
   "metadata": {},
   "source": [
    "# Test Field Line Trace"
   ]
  },
  {
   "cell_type": "code",
   "execution_count": null,
   "id": "30",
   "metadata": {},
   "outputs": [],
   "source": [
    "from dataclasses import dataclass"
   ]
  },
  {
   "cell_type": "code",
   "execution_count": null,
   "id": "31",
   "metadata": {},
   "outputs": [],
   "source": [
    "class MagneticFieldModel:\n",
    "    \"\"\"Represents a magnetic field model, with methods for sampling the\n",
    "    magnetic field at an aribtrary point.\n",
    "    \"\"\"\n",
    "    def __init__(self, x, y, z, Bx, By, Bz, inner_boundary):\n",
    "        self.x = x\n",
    "        self.y = y\n",
    "        self.z = z\n",
    "        self.Bx = Bx\n",
    "        self.By = By\n",
    "        self.Bz = Bz\n",
    "        self.inner_boundary = inner_boundary\n",
    "\n",
    "        B = np.empty((Bx.size, 3))\n",
    "        B[:, 0] = Bx.flatten(order=\"F\")\n",
    "        B[:, 1] = By.flatten(order=\"F\")\n",
    "        B[:, 2] = Bz.flatten(order=\"F\")\n",
    "        self._mesh = pv.StructuredGrid(x, y, z)\n",
    "        self._mesh.point_data[\"B\"] = B\n",
    "\n",
    "    def trace_field_line(self, starting_point, step_size):\n",
    "        \"\"\"Perform a field line trace. Implements RK45 in both directions,\n",
    "        stopping when outside the grid.\n",
    "\n",
    "        Parameters\n",
    "        ----------\n",
    "        starting_point : tuple of floats\n",
    "            Starting point of the field line trace, as (x, y, z) tuple of\n",
    "            floats, in units of Re. Trace will go in both directions until it hits\n",
    "            the model inner or outer boundary.\n",
    "        step_size : float, optional\n",
    "            Step size to use with the field line trace. If not sure, try 1e-3.\n",
    "\n",
    "        Returns\n",
    "        -------\n",
    "        trace : :py:class:`FieldLineTrace`\n",
    "            Coordinates and magnetic field vector along the field line trace\n",
    "        \"\"\"\n",
    "        pv_trace = self._mesh.streamlines(\n",
    "            \"B\",\n",
    "            start_position=starting_point,\n",
    "            terminal_speed=0.0,\n",
    "            max_step_length=step_size * 10,\n",
    "            min_step_length=step_size / 10,\n",
    "            initial_step_length=step_size,\n",
    "            step_unit=\"l\",\n",
    "            max_steps=1_000_000,\n",
    "            interpolator_type=\"c\",\n",
    "        )\n",
    "\n",
    "        return FieldLineTrace(points=pv_trace.points, B=pv_trace[\"B\"])\n",
    "\n",
    "@dataclass\n",
    "class FieldLineTrace:\n",
    "    \"\"\"Class to hold the results of a field line trace.\n",
    "\n",
    "    Parameters\n",
    "    ----------\n",
    "    points : array, shape (n, 3)\n",
    "       Positions along field line trace, in SM coordinate system and units of Re\n",
    "    B : array, shape (n, 3)\n",
    "       Magnetic field vector along field line trace, in SM coordinates and units\n",
    "       of Gauss\n",
    "    \"\"\"\n",
    "\n",
    "    points: object\n",
    "    B: object"
   ]
  },
  {
   "cell_type": "code",
   "execution_count": null,
   "id": "32",
   "metadata": {},
   "outputs": [],
   "source": [
    "model = MagneticFieldModel(X, Y, Z, Bx_regrid, By_regrid, Bz_regrid, inner_boundary=2.5)"
   ]
  },
  {
   "cell_type": "code",
   "execution_count": null,
   "id": "33",
   "metadata": {},
   "outputs": [],
   "source": [
    "trace = model.trace_field_line((5, 0, 0), 1e-3)"
   ]
  },
  {
   "cell_type": "code",
   "execution_count": null,
   "id": "34",
   "metadata": {},
   "outputs": [],
   "source": [
    "I = np.argsort(trace.points[:, 2] / trace.points[:, 0])\n",
    "plt.plot(trace.points[I, 0], trace.points[I, 2])"
   ]
  }
 ],
 "metadata": {
  "kernelspec": {
   "display_name": "Python 3 (ipykernel)",
   "language": "python",
   "name": "python3"
  },
  "language_info": {
   "codemirror_mode": {
    "name": "ipython",
    "version": 3
   },
   "file_extension": ".py",
   "mimetype": "text/x-python",
   "name": "python",
   "nbconvert_exporter": "python",
   "pygments_lexer": "ipython3",
   "version": "3.11.12"
  }
 },
 "nbformat": 4,
 "nbformat_minor": 5
}
