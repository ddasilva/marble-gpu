{
 "cells": [
  {
   "cell_type": "code",
   "execution_count": null,
   "id": "0",
   "metadata": {},
   "outputs": [],
   "source": [
    "import disco\n",
    "from disco.readers import GenericHdf5FieldModel\n",
    "\n",
    "import numpy as np\n",
    "import h5py\n",
    "from matplotlib import pyplot as plt\n",
    "from astropy import units as u\n",
    "from astropy import constants\n",
    "from scipy.constants import elementary_charge\n",
    "import ai.cs\n",
    "from mpl_toolkits.mplot3d import Axes3D\n",
    "import time\n",
    "import pandas as pd\n",
    "\n",
    "import cupy \n",
    "cupy.cuda.runtime.setDevice(3)"
   ]
  },
  {
   "cell_type": "markdown",
   "id": "1",
   "metadata": {},
   "source": [
    "# Load Regridded File"
   ]
  },
  {
   "cell_type": "code",
   "execution_count": null,
   "id": "2",
   "metadata": {},
   "outputs": [],
   "source": [
    "field_model = GenericHdf5FieldModel('regrid2.h5')"
   ]
  },
  {
   "cell_type": "markdown",
   "id": "3",
   "metadata": {},
   "source": [
    "# Make ParticleState"
   ]
  },
  {
   "cell_type": "code",
   "execution_count": null,
   "id": "4",
   "metadata": {},
   "outputs": [],
   "source": [
    "particle_height = 3 # Re\n",
    "energy_min = 5 # eV\n",
    "energy_max = 20e3 # eV\n",
    "energy_count = 30 \n",
    "inv_lat_min = 75 # deg\n",
    "inv_lat_max = 85 # deg\n",
    "inv_lat_step = 1 # deg\n",
    "long_step = 1 # deg"
   ]
  },
  {
   "cell_type": "code",
   "execution_count": null,
   "id": "5",
   "metadata": {},
   "outputs": [],
   "source": [
    "particle_long_axis = np.deg2rad(np.arange(0, 360, long_step)) # magnetic longitude\n",
    "particle_invlat_axis = np.deg2rad(np.arange(inv_lat_min, inv_lat_max, inv_lat_step)) # invariant magnetic latitude\n",
    "particle_lat_axis = np.arcsin(np.sqrt((1 / particle_height) * np.sin(particle_invlat_axis)**2))\n",
    "particle_lat, particle_long = np.meshgrid(particle_long_axis, particle_lat_axis, indexing='ij')\n",
    "pos_x, pos_y, pos_z = ai.cs.sp2cart(particle_height, particle_long, particle_lat, )"
   ]
  },
  {
   "cell_type": "code",
   "execution_count": null,
   "id": "6",
   "metadata": {},
   "outputs": [],
   "source": [
    "energy_axis = 10**np.linspace(np.log10(energy_min), np.log10(energy_max), energy_count) * u.eV"
   ]
  },
  {
   "cell_type": "code",
   "execution_count": null,
   "id": "7",
   "metadata": {},
   "outputs": [],
   "source": [
    "particle_lat, particle_long, particle_energy = np.meshgrid(particle_lat_axis, particle_long_axis, energy_axis, indexing='ij')\n",
    "pos_x, pos_y, pos_z = ai.cs.sp2cart(particle_height, particle_lat, particle_long )\n",
    "pos_x *= u.R_earth\n",
    "pos_y *= u.R_earth\n",
    "pos_z *= u.R_earth\n",
    "particle_vel = np.sqrt(2 * particle_energy / constants.m_p)\n",
    "gamma = 1 / np.sqrt(1 - (particle_vel / constants.c) ** 2)\n",
    "ppar = gamma * constants.m_p * particle_vel\n",
    "magnetic_moment = np.zeros(ppar.shape) * u.MeV/u.nT\n",
    "charge = - elementary_charge * u.C"
   ]
  },
  {
   "cell_type": "code",
   "execution_count": null,
   "id": "8",
   "metadata": {},
   "outputs": [],
   "source": [
    "particle_state = disco.ParticleState(pos_x.flatten(), pos_y.flatten(), pos_z.flatten(),\n",
    "                                     ppar.flatten(), magnetic_moment.flatten(), constants.m_p, charge)"
   ]
  },
  {
   "cell_type": "code",
   "execution_count": null,
   "id": "9",
   "metadata": {},
   "outputs": [],
   "source": [
    "plt.plot(pos_x.flatten(), pos_y.flatten(), ',')\n",
    "plt.gca().set_aspect('equal')"
   ]
  },
  {
   "cell_type": "markdown",
   "id": "10",
   "metadata": {},
   "source": [
    "# Make a TraceConfig"
   ]
  },
  {
   "cell_type": "code",
   "execution_count": null,
   "id": "11",
   "metadata": {},
   "outputs": [],
   "source": [
    "config = disco.TraceConfig(\n",
    "    t_final=-np.inf * u.hr,\n",
    "    rtol=1e-2,\n",
    "    integrate_backwards=True,\n",
    "    iters_max=2500,\n",
    ")"
   ]
  },
  {
   "cell_type": "markdown",
   "id": "12",
   "metadata": {},
   "source": [
    "# Perform Traces"
   ]
  },
  {
   "cell_type": "code",
   "execution_count": null,
   "id": "13",
   "metadata": {},
   "outputs": [],
   "source": [
    "start_time = time.time()\n",
    "hist = disco.trace_trajectory(config, particle_state, field_model)\n",
    "print('took', time.time() - start_time, 's')"
   ]
  },
  {
   "cell_type": "markdown",
   "id": "14",
   "metadata": {},
   "source": [
    "# Plotting"
   ]
  },
  {
   "cell_type": "code",
   "execution_count": null,
   "id": "15",
   "metadata": {},
   "outputs": [],
   "source": [
    "plt.hist(-disco._undim_time(hist.t[-1, :].flatten()).to(u.min).value, bins=np.arange(60))\n",
    "plt.yscale('log')\n",
    "plt.xlabel('Time Backwards Integrated (minutes)')\n",
    "plt.ylabel('Particles Finished (Bin Count)')\n",
    "plt.title('Integration Time Required')\n",
    "None"
   ]
  },
  {
   "cell_type": "code",
   "execution_count": null,
   "id": "16",
   "metadata": {},
   "outputs": [],
   "source": [
    "step = 1\n",
    "df = pd.DataFrame(dict(\n",
    "    x=hist.x[step, :],\n",
    "    y=hist.y[step, :], \n",
    "    z=hist.z[step, :],\n",
    "    r=np.sqrt(hist.x[step, :]**2 + hist.x[step, :]**2 + hist.z[step, :]**2)\n",
    "))\n",
    "df.head()"
   ]
  },
  {
   "cell_type": "code",
   "execution_count": null,
   "id": "17",
   "metadata": {},
   "outputs": [],
   "source": [
    "from matplotlib.colors import LogNorm\n",
    "df_small = df.sample(n=int(1e4)).sample(frac=1)\n",
    "\n",
    "plt.figure()\n",
    "plt.scatter(df_small.x, df_small.y, c=df_small.z, s=.5)\n",
    "plt.colorbar().set_label('Z (SM)')\n",
    "plt.xlabel('X (SM)')\n",
    "plt.ylabel('Y (SM)')\n",
    "plt.title('Backwards Tracing Endpoints - Equitorial')\n",
    "#plt.xlim(-15, 15)\n",
    "#plt.ylim(-15, 15)\n",
    "\n",
    "plt.figure()\n",
    "plt.scatter(df_small.x, df_small.z, c=df_small.y, s=.5)\n",
    "plt.colorbar().set_label('Y (SM)')\n",
    "plt.xlabel('X (SM)')\n",
    "plt.ylabel('Z (SM)')\n",
    "plt.title('Backwards Tracing Endpoints - Meridonal')\n",
    "#plt.xlim(-15, 15)\n",
    "#plt.ylim(-15, 15)\n"
   ]
  },
  {
   "cell_type": "code",
   "execution_count": null,
   "id": "18",
   "metadata": {},
   "outputs": [],
   "source": []
  }
 ],
 "metadata": {
  "kernelspec": {
   "display_name": "Python 3 (ipykernel)",
   "language": "python",
   "name": "python3"
  },
  "language_info": {
   "codemirror_mode": {
    "name": "ipython",
    "version": 3
   },
   "file_extension": ".py",
   "mimetype": "text/x-python",
   "name": "python",
   "nbconvert_exporter": "python",
   "pygments_lexer": "ipython3",
   "version": "3.11.12"
  }
 },
 "nbformat": 4,
 "nbformat_minor": 5
}
