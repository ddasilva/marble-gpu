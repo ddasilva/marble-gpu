{
 "cells": [
  {
   "cell_type": "code",
   "execution_count": null,
   "id": "0",
   "metadata": {},
   "outputs": [],
   "source": [
    "import disco\n",
    "import numpy as np\n",
    "import h5py\n",
    "from matplotlib import pyplot as plt\n",
    "from astropy import units as u\n",
    "from astropy import constants\n",
    "from scipy.constants import elementary_charge\n",
    "import ai.cs\n",
    "from mpl_toolkits.mplot3d import Axes3D\n"
   ]
  },
  {
   "cell_type": "markdown",
   "id": "1",
   "metadata": {},
   "source": [
    "# Load Regridded File"
   ]
  },
  {
   "cell_type": "code",
   "execution_count": null,
   "id": "2",
   "metadata": {},
   "outputs": [],
   "source": [
    "hdf = h5py.File('regrid.h5')\n",
    "regrid_data = {}\n",
    "\n",
    "for key in hdf.keys():\n",
    "    regrid_data[key] = hdf[key][:]\n",
    "hdf.close()\n",
    "\n",
    "regrid_data['Bx'] *= u.nT\n",
    "regrid_data['By'] *= u.nT\n",
    "regrid_data['Bz'] *= u.nT\n",
    "regrid_data['Ex'] *= u.mV/u.m\n",
    "regrid_data['Ey'] *= u.mV/u.m\n",
    "regrid_data['Ez'] *= u.mV/u.m\n",
    "regrid_data['n'] *= u.cm**(-3)\n",
    "regrid_data['T'] *= u.eV\n",
    "regrid_data['xaxis'] *= u.R_earth\n",
    "regrid_data['yaxis'] *= u.R_earth\n",
    "regrid_data['zaxis'] *= u.R_earth"
   ]
  },
  {
   "cell_type": "markdown",
   "id": "3",
   "metadata": {},
   "source": [
    "# Make Axes Instance"
   ]
  },
  {
   "cell_type": "code",
   "execution_count": null,
   "id": "4",
   "metadata": {},
   "outputs": [],
   "source": [
    "taxis = np.array([-1, 1]) * u.day\n",
    "\n",
    "axes = disco.Axes(regrid_data['xaxis'],\n",
    "                  regrid_data['yaxis'],\n",
    "                  regrid_data['zaxis'],\n",
    "                  taxis,\n",
    "                  r_inner=2.5 * u.R_earth)\n",
    "axes"
   ]
  },
  {
   "cell_type": "code",
   "execution_count": null,
   "id": "5",
   "metadata": {},
   "outputs": [],
   "source": [
    "regrid_data['Bx'].shape"
   ]
  },
  {
   "cell_type": "markdown",
   "id": "6",
   "metadata": {},
   "source": [
    "# Make FieldModel Instance"
   ]
  },
  {
   "cell_type": "code",
   "execution_count": null,
   "id": "7",
   "metadata": {},
   "outputs": [],
   "source": [
    "mass = constants.m_p\n",
    "charge = elementary_charge * u.coulomb\n",
    "\n",
    "Bx = np.array([regrid_data['Bx'].T]*taxis.size).T * regrid_data['Bx'].unit\n",
    "By = np.array([regrid_data['By'].T]*taxis.size).T * regrid_data['By'].unit\n",
    "Bz = np.array([regrid_data['Bz'].T]*taxis.size).T * regrid_data['Bz'].unit\n",
    "Ex = np.array([regrid_data['Ex'].T]*taxis.size).T * regrid_data['Ex'].unit\n",
    "Ey = np.array([regrid_data['Ey'].T]*taxis.size).T * regrid_data['Ey'].unit\n",
    "Ez = np.array([regrid_data['Ez'].T]*taxis.size).T * regrid_data['Ez'].unit\n",
    "\n",
    "m = (Bx.value==0) & (By.value==0) & (Bz.value==0) & (Ex.value==0) & (Ey.value==0) & (Ez.value==0)\n",
    "print('Cells to NaN:', m.sum() / m.size)\n",
    "Bx[m] = np.nan\n",
    "By[m] = np.nan\n",
    "Bz[m] = np.nan\n",
    "Ex[m] = np.nan\n",
    "Ey[m] = np.nan\n",
    "Ez[m] = np.nan\n",
    "\n",
    "field_model = disco.FieldModel(Bx, By, Bz, Ex, Ey, Ez, mass, charge, axes)\n",
    "field_model"
   ]
  },
  {
   "cell_type": "markdown",
   "id": "8",
   "metadata": {},
   "source": [
    "# Make ParticleState"
   ]
  },
  {
   "cell_type": "code",
   "execution_count": null,
   "id": "9",
   "metadata": {},
   "outputs": [],
   "source": [
    "\n",
    "particle_height = 3 * u.R_earth\n",
    "\n",
    "particle_long_axis = np.arange(0, 2*np.pi, .1) # magnetic longitude\n",
    "particle_invlat_axis = np.arange(65, 85, .1) # invariant magnetic latitude\n",
    "particle_lat_axis = np.arcsin(np.sqrt((u.R_earth / particle_height) * np.sin(particle_invlat_axis)**2))\n",
    "\n",
    "particle_lat, particle_long = np.meshgrid(particle_long_axis, particle_lat_axis, indexing='ij')\n",
    "\n",
    "pos_x, pos_y, pos_z = ai.cs.sp2cart(particle_height, particle_long, particle_lat, )"
   ]
  },
  {
   "cell_type": "code",
   "execution_count": null,
   "id": "10",
   "metadata": {},
   "outputs": [],
   "source": [
    "\n",
    "ax = plt.figure(figsize=(8,8)).add_subplot(111, projection='3d')\n",
    "\n",
    "uu = np.linspace(0, 2 * np.pi, 100)\n",
    "vv = np.linspace(0, np.pi, 100)\n",
    "x = np.outer(np.cos(uu), np.sin(vv))\n",
    "y = np.outer(np.sin(uu), np.sin(vv))\n",
    "z = np.outer(np.ones(np.size(uu)), np.cos(vv))\n",
    "ax.plot_surface(x, y, z)\n",
    "\n",
    "ax.plot(pos_x, pos_y, pos_z, '.', zorder=100)\n",
    "ax.set_xlim(-5, 5)\n",
    "ax.set_ylim(-5, 5)\n",
    "ax.set_zlim(-5, 5)\n",
    "ax.set_xlabel('X (SM)')\n",
    "ax.set_ylabel('Y (SM)')\n",
    "ax.set_zlabel('Z (SM)')\n",
    "ax.set_title('MARBLE Grid')"
   ]
  },
  {
   "cell_type": "code",
   "execution_count": null,
   "id": "11",
   "metadata": {},
   "outputs": [],
   "source": [
    "energy_axis = 10**np.linspace(np.log10(5), np.log10(20e3), 30) * u.eV\n",
    "energy_axis"
   ]
  },
  {
   "cell_type": "code",
   "execution_count": null,
   "id": "12",
   "metadata": {},
   "outputs": [],
   "source": [
    "particle_lat, particle_long, particle_energy = np.meshgrid(particle_lat_axis, particle_long_axis, energy_axis, indexing='ij')\n",
    "pos_x, pos_y, pos_z = ai.cs.sp2cart(particle_height, particle_long, particle_lat, )\n",
    "pos_x *= u.R_earth\n",
    "pos_y *= u.R_earth\n",
    "pos_z *= u.R_earth\n",
    "particle_vel = np.sqrt(2 * particle_energy / constants.m_p)\n",
    "gamma = 1 / np.sqrt(1 - (particle_vel / constants.c) ** 2)\n",
    "ppar = gamma * constants.m_p * particle_vel\n",
    "magnetic_moment = np.zeros(ppar.shape) * u.MeV/u.nT"
   ]
  },
  {
   "cell_type": "code",
   "execution_count": null,
   "id": "13",
   "metadata": {},
   "outputs": [],
   "source": [
    "particle_state = disco.ParticleState(pos_x.flatten(), pos_y.flatten(), pos_z.flatten(),\n",
    "                                     ppar.flatten(), magnetic_moment.flatten(), constants.m_p, charge)"
   ]
  },
  {
   "cell_type": "markdown",
   "id": "14",
   "metadata": {},
   "source": [
    "# Make a TraceConfig"
   ]
  },
  {
   "cell_type": "code",
   "execution_count": null,
   "id": "15",
   "metadata": {},
   "outputs": [],
   "source": []
  },
  {
   "cell_type": "code",
   "execution_count": null,
   "id": "16",
   "metadata": {},
   "outputs": [],
   "source": [
    "config = disco.TraceConfig(\n",
    "    t_final=-1 * u.hr,\n",
    "    h_initial=5 * u.ms,\n",
    "    rtol=1e-2,\n",
    "    output_freq=None,\n",
    "    integrate_backwards=True\n",
    ")"
   ]
  },
  {
   "cell_type": "markdown",
   "id": "17",
   "metadata": {},
   "source": [
    "# Perform Traces"
   ]
  },
  {
   "cell_type": "code",
   "execution_count": null,
   "id": "18",
   "metadata": {},
   "outputs": [],
   "source": [
    "import time\n",
    "start_time = time.time()\n",
    "hist = disco.trace_trajectory(config, particle_state, field_model)\n",
    "print('took', time.time() - start_time, 's')"
   ]
  },
  {
   "cell_type": "code",
   "execution_count": null,
   "id": "19",
   "metadata": {},
   "outputs": [],
   "source": []
  },
  {
   "cell_type": "code",
   "execution_count": null,
   "id": "20",
   "metadata": {},
   "outputs": [],
   "source": [
    "xx = hist.x.flatten()\n",
    "yy = hist.y.flatten()\n",
    "zz = hist.z.flatten()\n",
    "\n",
    "out_bd = (\n",
    "    (np.abs(xx -  regrid_data['xaxis'].value[0]) < .1) |\n",
    "    (np.abs(xx -  regrid_data['xaxis'].value[-1]) < .1) |\n",
    "    \n",
    "    (np.abs(yy -  regrid_data['yaxis'].value[0]) < .1) |\n",
    "    (np.abs(yy -  regrid_data['yaxis'].value[-1]) < .1) |\n",
    "    \n",
    "    (np.abs(zz -  regrid_data['zaxis'].value[0]) < .1) |\n",
    "    (np.abs(zz -  regrid_data['zaxis'].value[-1]) < .1) \n",
    ")\n",
    "inner_bd = (np.abs(np.sqrt(xx**2 + yy**2 + zz**2) - field_model.axes.r_inner) < 0.1)\n",
    "\n",
    "plt.bar([0, 1, 2], [xx.size - out_bd.sum() - inner_bd.sum(), inner_bd.sum(), out_bd.sum()])\n",
    "plt.gca().set_xticks([0, 1, 2])\n",
    "plt.gca().set_xticklabels(['Time Limit', 'Inner Boundary', 'Outer Boundary'])\n",
    "plt.title('Particle Trace Endpoint')"
   ]
  },
  {
   "cell_type": "code",
   "execution_count": null,
   "id": "21",
   "metadata": {},
   "outputs": [],
   "source": [
    "fig = plt.figure(figsize=(8,8))\n",
    "ax = fig.add_subplot(111, projection='3d')\n",
    "\n",
    "b = inner_bd | out_bd\n",
    "im = ax.scatter(hist.x.flatten()[b], hist.y.flatten()[b], hist.z.flatten()[b], c=(particle_energy/1e3).flatten()[b], s=.1)\n",
    "ax.set_xlim(-16, 16)\n",
    "ax.set_ylim(-16, 16)\n",
    "ax.set_zlim(-16, 16)\n",
    "ax.set_xlabel('X (SM)')\n",
    "ax.set_ylabel('Y (SM)')\n",
    "ax.set_zlabel('Z (SM)')\n"
   ]
  },
  {
   "cell_type": "code",
   "execution_count": null,
   "id": "22",
   "metadata": {},
   "outputs": [],
   "source": []
  },
  {
   "cell_type": "code",
   "execution_count": null,
   "id": "23",
   "metadata": {},
   "outputs": [],
   "source": []
  },
  {
   "cell_type": "code",
   "execution_count": null,
   "id": "24",
   "metadata": {},
   "outputs": [],
   "source": []
  }
 ],
 "metadata": {
  "kernelspec": {
   "display_name": "Python 3 (ipykernel)",
   "language": "python",
   "name": "python3"
  },
  "language_info": {
   "codemirror_mode": {
    "name": "ipython",
    "version": 3
   },
   "file_extension": ".py",
   "mimetype": "text/x-python",
   "name": "python",
   "nbconvert_exporter": "python",
   "pygments_lexer": "ipython3",
   "version": "3.11.12"
  }
 },
 "nbformat": 4,
 "nbformat_minor": 5
}
