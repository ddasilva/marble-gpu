{
 "cells": [
  {
   "cell_type": "code",
   "execution_count": null,
   "id": "0",
   "metadata": {},
   "outputs": [],
   "source": [
    "import disco\n",
    "import numpy as np\n",
    "import h5py\n",
    "from matplotlib import pyplot as plt\n",
    "from astropy import units as u\n",
    "from astropy import constants\n",
    "from scipy.constants import elementary_charge\n",
    "import ai.cs\n",
    "from mpl_toolkits.mplot3d import Axes3D\n",
    "import time\n",
    "import pandas as pd\n",
    "\n",
    "import cupy \n",
    "cupy.cuda.runtime.setDevice(3)"
   ]
  },
  {
   "cell_type": "markdown",
   "id": "1",
   "metadata": {},
   "source": [
    "# Load Regridded File"
   ]
  },
  {
   "cell_type": "code",
   "execution_count": null,
   "id": "2",
   "metadata": {},
   "outputs": [],
   "source": [
    "hdf = h5py.File('regrid.h5')\n",
    "regrid_data = {}\n",
    "\n",
    "for key in hdf.keys():\n",
    "    regrid_data[key] = hdf[key][:]\n",
    "hdf.close()\n",
    "\n",
    "regrid_data['Bx'] *= u.nT\n",
    "regrid_data['By'] *= u.nT\n",
    "regrid_data['Bz'] *= u.nT\n",
    "regrid_data['Ex'] *= u.mV/u.m\n",
    "regrid_data['Ey'] *= u.mV/u.m\n",
    "regrid_data['Ez'] *= u.mV/u.m\n",
    "regrid_data['n'] *= u.cm**(-3)\n",
    "regrid_data['T'] *= u.eV\n",
    "regrid_data['xaxis'] *= u.R_earth\n",
    "regrid_data['yaxis'] *= u.R_earth\n",
    "regrid_data['zaxis'] *= u.R_earth"
   ]
  },
  {
   "cell_type": "markdown",
   "id": "3",
   "metadata": {},
   "source": [
    "# Make Axes Instance"
   ]
  },
  {
   "cell_type": "code",
   "execution_count": null,
   "id": "4",
   "metadata": {},
   "outputs": [],
   "source": [
    "taxis = np.array([-1, 1]) * u.day\n",
    "\n",
    "axes = disco.Axes(regrid_data['xaxis'],\n",
    "                  regrid_data['yaxis'],\n",
    "                  regrid_data['zaxis'],\n",
    "                  taxis,\n",
    "                  r_inner=2.5 * u.R_earth)\n",
    "axes"
   ]
  },
  {
   "cell_type": "code",
   "execution_count": null,
   "id": "5",
   "metadata": {},
   "outputs": [],
   "source": [
    "regrid_data['Bx'].shape"
   ]
  },
  {
   "cell_type": "markdown",
   "id": "6",
   "metadata": {},
   "source": [
    "# Make FieldModel Instance"
   ]
  },
  {
   "cell_type": "code",
   "execution_count": null,
   "id": "7",
   "metadata": {},
   "outputs": [],
   "source": [
    "mass = constants.m_p\n",
    "charge = elementary_charge * u.coulomb\n",
    "\n",
    "Bx = np.array([regrid_data['Bx'].T]*taxis.size).T * regrid_data['Bx'].unit\n",
    "By = np.array([regrid_data['By'].T]*taxis.size).T * regrid_data['By'].unit\n",
    "Bz = np.array([regrid_data['Bz'].T]*taxis.size).T * regrid_data['Bz'].unit\n",
    "Ex = np.array([regrid_data['Ex'].T]*taxis.size).T * regrid_data['Ex'].unit\n",
    "Ey = np.array([regrid_data['Ey'].T]*taxis.size).T * regrid_data['Ey'].unit\n",
    "Ez = np.array([regrid_data['Ez'].T]*taxis.size).T * regrid_data['Ez'].unit\n",
    "\n",
    "m = (Bx.value==0) & (By.value==0) & (Bz.value==0) & (Ex.value==0) & (Ey.value==0) & (Ez.value==0)\n",
    "print('Cells to NaN:', m.sum() / m.size)\n",
    "Bx[m] = np.nan\n",
    "By[m] = np.nan\n",
    "Bz[m] = np.nan\n",
    "Ex[m] = np.nan\n",
    "Ey[m] = np.nan\n",
    "Ez[m] = np.nan\n",
    "\n",
    "field_model = disco.FieldModel(Bx, By, Bz, Ex, Ey, Ez, mass, charge, axes)\n",
    "field_model"
   ]
  },
  {
   "cell_type": "markdown",
   "id": "8",
   "metadata": {},
   "source": [
    "# Make ParticleState"
   ]
  },
  {
   "cell_type": "code",
   "execution_count": null,
   "id": "9",
   "metadata": {},
   "outputs": [],
   "source": []
  },
  {
   "cell_type": "code",
   "execution_count": null,
   "id": "10",
   "metadata": {},
   "outputs": [],
   "source": [
    "particle_height = 3 * u.R_earth\n",
    "\n",
    "particle_long_axis = np.deg2rad(np.arange(0, 360, .1)) # magnetic longitude\n",
    "particle_invlat_axis = np.deg2rad(np.arange(65, 85, .1)) # invariant magnetic latitude\n",
    "particle_lat_axis = np.arcsin(np.sqrt((u.R_earth / particle_height) * np.sin(particle_invlat_axis)**2))\n",
    "\n",
    "particle_lat, particle_long = np.meshgrid(particle_long_axis, particle_lat_axis, indexing='ij')\n",
    "\n",
    "pos_x, pos_y, pos_z = ai.cs.sp2cart(particle_height, particle_long, particle_lat, )"
   ]
  },
  {
   "cell_type": "code",
   "execution_count": null,
   "id": "11",
   "metadata": {},
   "outputs": [],
   "source": [
    "\n",
    "ax = plt.figure(figsize=(8,8)).add_subplot(111, projection='3d')\n",
    "\n",
    "uu = np.linspace(0, 2 * np.pi, 100)\n",
    "vv = np.linspace(0, np.pi, 100)\n",
    "x = np.outer(np.cos(uu), np.sin(vv))\n",
    "y = np.outer(np.sin(uu), np.sin(vv))\n",
    "z = np.outer(np.ones(np.size(uu)), np.cos(vv))\n",
    "ax.plot_surface(x, y, z)\n",
    "\n",
    "ax.plot(pos_x, pos_y, pos_z, '.', zorder=100)\n",
    "ax.set_xlim(-16, 16)\n",
    "ax.set_ylim(-16, 16)\n",
    "ax.set_zlim(-16, 16)\n",
    "ax.set_xlabel('X (SM)')\n",
    "ax.set_ylabel('Y (SM)')\n",
    "ax.set_zlabel('Z (SM)')\n",
    "ax.set_title('MARBLE Grid')"
   ]
  },
  {
   "cell_type": "code",
   "execution_count": null,
   "id": "12",
   "metadata": {},
   "outputs": [],
   "source": [
    "energy_min = 5\n",
    "energy_max = 20e3\n",
    "energy_count = 30\n",
    "\n",
    "energy_axis = 10**np.linspace(np.log10(energy_min), np.log10(energy_max), energy_count) * u.eV\n",
    "energy_axis"
   ]
  },
  {
   "cell_type": "code",
   "execution_count": null,
   "id": "13",
   "metadata": {},
   "outputs": [],
   "source": [
    "particle_lat, particle_long, particle_energy = np.meshgrid(particle_lat_axis, particle_long_axis, energy_axis, indexing='ij')\n",
    "pos_x, pos_y, pos_z = ai.cs.sp2cart(particle_height, particle_long, particle_lat, )\n",
    "pos_x *= u.R_earth\n",
    "pos_y *= u.R_earth\n",
    "pos_z *= u.R_earth\n",
    "particle_vel = np.sqrt(2 * particle_energy / constants.m_p)\n",
    "gamma = 1 / np.sqrt(1 - (particle_vel / constants.c) ** 2)\n",
    "ppar = gamma * constants.m_p * particle_vel\n",
    "magnetic_moment = np.zeros(ppar.shape) * u.MeV/u.nT"
   ]
  },
  {
   "cell_type": "code",
   "execution_count": null,
   "id": "14",
   "metadata": {},
   "outputs": [],
   "source": [
    "particle_state = disco.ParticleState(pos_x.flatten(), pos_y.flatten(), pos_z.flatten(),\n",
    "                                     ppar.flatten(), magnetic_moment.flatten(), constants.m_p, charge)"
   ]
  },
  {
   "cell_type": "markdown",
   "id": "15",
   "metadata": {},
   "source": [
    "# Make a TraceConfig"
   ]
  },
  {
   "cell_type": "code",
   "execution_count": null,
   "id": "16",
   "metadata": {},
   "outputs": [],
   "source": []
  },
  {
   "cell_type": "code",
   "execution_count": null,
   "id": "17",
   "metadata": {},
   "outputs": [],
   "source": [
    "config = disco.TraceConfig(\n",
    "    t_final=-5 * u.hr,\n",
    "    h_initial=5 * u.ms,\n",
    "    rtol=1e-2,\n",
    "    integrate_backwards=True,\n",
    "    iters_max=500,\n",
    ")"
   ]
  },
  {
   "cell_type": "markdown",
   "id": "18",
   "metadata": {},
   "source": [
    "# Perform Traces"
   ]
  },
  {
   "cell_type": "code",
   "execution_count": null,
   "id": "19",
   "metadata": {},
   "outputs": [],
   "source": [
    "start_time = time.time()\n",
    "hist = disco.trace_trajectory(config, particle_state, field_model)\n",
    "print('took', time.time() - start_time, 's')"
   ]
  },
  {
   "cell_type": "markdown",
   "id": "20",
   "metadata": {},
   "source": [
    "# Plotting"
   ]
  },
  {
   "cell_type": "code",
   "execution_count": null,
   "id": "21",
   "metadata": {},
   "outputs": [],
   "source": [
    "plt.hist(-disco._undim_time(hist.t[-1, :].flatten()).to(u.min).value, bins=np.arange(60))\n",
    "plt.yscale('log')\n",
    "plt.xlabel('Time Backwards Integrated (minutes)')\n",
    "plt.ylabel('Particles Finished (Bin Count)')\n",
    "plt.title('Integration Time Required')\n",
    "None"
   ]
  },
  {
   "cell_type": "code",
   "execution_count": null,
   "id": "22",
   "metadata": {},
   "outputs": [],
   "source": [
    "xx = hist.x[-1, :]\n",
    "yy = hist.y[-1, :]\n",
    "zz = hist.z[-1, :]\n",
    "tt = hist.t[-1, :]\n",
    "\n",
    "threshold = 0.5\n",
    "\n",
    "out_bd = (\n",
    "    (np.abs(xx -  regrid_data['xaxis'].value[0]) < threshold) |\n",
    "    (np.abs(xx -  regrid_data['xaxis'].value[-1]) < threshold) |\n",
    "    \n",
    "    (np.abs(yy -  regrid_data['yaxis'].value[0]) < threshold) |\n",
    "    (np.abs(yy -  regrid_data['yaxis'].value[-1]) < threshold) |\n",
    "    \n",
    "    (np.abs(zz -  regrid_data['zaxis'].value[0]) < threshold) |\n",
    "    (np.abs(zz -  regrid_data['zaxis'].value[-1]) < threshold) \n",
    ")\n",
    "\n",
    "inner_bd = (np.abs(np.sqrt(xx**2 + yy**2 + zz**2) - field_model.axes.r_inner) < 0.1)"
   ]
  },
  {
   "cell_type": "code",
   "execution_count": null,
   "id": "23",
   "metadata": {},
   "outputs": [],
   "source": [
    "out_bd.sum() + inner_bd.sum()"
   ]
  },
  {
   "cell_type": "code",
   "execution_count": null,
   "id": "24",
   "metadata": {},
   "outputs": [],
   "source": [
    "plt.bar([1, 2], [inner_bd.sum(), out_bd.sum()])\n",
    "plt.gca().set_xticks([1, 2])\n",
    "plt.gca().set_xticklabels(['Lost to Inner Boundary', 'Lost to Outer Boundary'])\n",
    "plt.title('Particle Trace Endpoint')\n"
   ]
  },
  {
   "cell_type": "code",
   "execution_count": null,
   "id": "25",
   "metadata": {},
   "outputs": [],
   "source": []
  },
  {
   "cell_type": "code",
   "execution_count": null,
   "id": "26",
   "metadata": {},
   "outputs": [],
   "source": [
    "b = inner_bd | out_bd\n",
    "df = pd.DataFrame(dict(\n",
    "    x=hist.x[-1, b],\n",
    "    y=hist.y[-1, b], \n",
    "    z=hist.z[-1, b],\n",
    "    c=(particle_energy.flatten()/1e3).flatten()[b]\n",
    "))\n",
    "df.head()"
   ]
  },
  {
   "cell_type": "code",
   "execution_count": null,
   "id": "27",
   "metadata": {},
   "outputs": [],
   "source": [
    "from matplotlib.colors import LogNorm\n",
    "df_small = df.sample(n=int(1e6)).sample(frac=1)\n",
    "\n",
    "plt.figure()\n",
    "ax = plt.gca()\n",
    "ax.plot(df_small.x, df_small.y, ',')\n",
    "ax.set_xlim(-16, 16)\n",
    "ax.set_ylim(-16, 16)\n",
    "ax.set_xlabel('X (SM)')\n",
    "ax.set_ylabel('Y (SM)')\n",
    "ax.set_title('Backwards Tracing Endpoints - Equitorial')\n",
    "\n",
    "plt.figure()\n",
    "ax = plt.gca()\n",
    "ax.plot(df_small.x, df_small.z, ',')\n",
    "ax.set_xlim(-16, 16)\n",
    "ax.set_ylim(-16, 16)\n",
    "ax.set_xlabel('X (SM)')\n",
    "ax.set_ylabel('Z (SM)')\n",
    "ax.set_title('Backwards Tracing Endpoints - Meridonal')"
   ]
  },
  {
   "cell_type": "markdown",
   "id": "28",
   "metadata": {},
   "source": [
    "# Inspect Inner Boundary Termination Trajectories"
   ]
  },
  {
   "cell_type": "code",
   "execution_count": null,
   "id": "29",
   "metadata": {},
   "outputs": [],
   "source": [
    "\n",
    "n_in = 500\n",
    "\n",
    "particle_state_in = disco.ParticleState(pos_x.flatten()[inner_bd][:n_in],\n",
    "                                        pos_y.flatten()[inner_bd][:n_in],\n",
    "                                        pos_z.flatten()[inner_bd][:n_in],\n",
    "                                         ppar.flatten()[inner_bd][:n_in],\n",
    "                                        magnetic_moment.flatten()[inner_bd][:n_in],\n",
    "                                        constants.m_p,\n",
    "                                        charge)"
   ]
  },
  {
   "cell_type": "code",
   "execution_count": null,
   "id": "30",
   "metadata": {},
   "outputs": [],
   "source": [
    "config_in = disco.TraceConfig(\n",
    "    t_final=-5 * u.hr,\n",
    "    h_initial=5 * u.ms,\n",
    "    rtol=1e-2,\n",
    "    integrate_backwards=True,\n",
    "    iters_max=500,\n",
    "    output_freq=1\n",
    ")"
   ]
  },
  {
   "cell_type": "code",
   "execution_count": null,
   "id": "31",
   "metadata": {},
   "outputs": [],
   "source": [
    "start_time = time.time()\n",
    "hist_new = disco.trace_trajectory(config_in, particle_state_in, field_model)\n",
    "print('took', time.time() - start_time, 's')"
   ]
  },
  {
   "cell_type": "code",
   "execution_count": null,
   "id": "32",
   "metadata": {},
   "outputs": [],
   "source": [
    "hist_new_r = np.sqrt(hist_new.x**2 + hist_new.y**2 + hist_new.z**2)\n",
    "plt.plot(np.diff(hist_new_r, axis=0))\n",
    "None"
   ]
  },
  {
   "cell_type": "code",
   "execution_count": null,
   "id": "33",
   "metadata": {},
   "outputs": [],
   "source": [
    "plt.plot(hist.W[-1, :])"
   ]
  },
  {
   "cell_type": "code",
   "execution_count": null,
   "id": "34",
   "metadata": {},
   "outputs": [],
   "source": [
    "c = particle_energy.flatten()[inner_bd][:n_in].value\n",
    "cmap = plt.get_cmap('viridis')\n",
    "\n",
    "mask = (hist_new.z > .5).any(axis=0)\n",
    "print(mask.shape)\n",
    "\n",
    "plt.figure()\n",
    "ax = plt.gca()\n",
    "for i in range(n_in):\n",
    "    if mask[i]:\n",
    "        #color = cmap(np.log10(c[i]) / np.log10(c).max())\n",
    "        ax.scatter(hist_new.x[:, i], hist_new.y[:, i], c=hist_new.t[:, i], s=0.2)\n",
    "ax.plot(hist_new.x[0, :], hist_new.y[0, :],  'k.')\n",
    "ax.set_xlim(0, 3)\n",
    "ax.set_ylim(-3, 3)\n",
    "ax.set_xlabel('X (SM)')\n",
    "ax.set_ylabel('Y (SM)')\n",
    "ax.set_title('Northern Hemisphere Inner Boundary Loss - Equitorial')\n",
    "\n",
    "plt.figure()\n",
    "ax = plt.gca()\n",
    "ax.plot(hist_new.x[0, :], hist_new.z[0, :], 'k.')\n",
    "for i in range(n_in):\n",
    "    if mask[i]:\n",
    "        color = cmap(np.log10(c[i]) / np.log10(c).max())\n",
    "        ax.scatter(hist_new.x[:, i], hist_new.z[:, i], c=hist_new.t[:, i], s=0.2)\n",
    "ax.plot(hist_new.x[0, :], hist_new.z[0, :], 'k.')\n",
    "ax.set_xlim(1.5, 3)\n",
    "ax.set_ylim(-2, 1.5)\n",
    "ax.set_xlabel('X (SM)')\n",
    "ax.set_ylabel('Z (SM)')\n",
    "ax.set_title('Northern Hemisphere Inner Boundary Loss - Meridonal')"
   ]
  },
  {
   "cell_type": "code",
   "execution_count": null,
   "id": "35",
   "metadata": {},
   "outputs": [],
   "source": []
  },
  {
   "cell_type": "code",
   "execution_count": null,
   "id": "36",
   "metadata": {},
   "outputs": [],
   "source": []
  }
 ],
 "metadata": {
  "kernelspec": {
   "display_name": "Python 3 (ipykernel)",
   "language": "python",
   "name": "python3"
  },
  "language_info": {
   "codemirror_mode": {
    "name": "ipython",
    "version": 3
   },
   "file_extension": ".py",
   "mimetype": "text/x-python",
   "name": "python",
   "nbconvert_exporter": "python",
   "pygments_lexer": "ipython3",
   "version": "3.11.12"
  }
 },
 "nbformat": 4,
 "nbformat_minor": 5
}
