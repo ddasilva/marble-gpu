{
 "cells": [
  {
   "cell_type": "code",
   "execution_count": null,
   "id": "0",
   "metadata": {},
   "outputs": [],
   "source": [
    "from astropy import units\n",
    "import numpy as np\n",
    "import pylab as plt\n",
    "from scipy import signal\n",
    "\n",
    "import disco\n",
    "\n",
    "import utils"
   ]
  },
  {
   "cell_type": "code",
   "execution_count": null,
   "id": "1",
   "metadata": {},
   "outputs": [],
   "source": [
    "hist = disco.ParticleHistory.load('triple_dispersion.h5')\n",
    "hist"
   ]
  },
  {
   "cell_type": "code",
   "execution_count": null,
   "id": "2",
   "metadata": {},
   "outputs": [],
   "source": [
    "disp_sim = utils.setup_dispersion_sim()\n",
    "\n",
    "particle_inv_lat, particle_energy = np.meshgrid(\n",
    "    disp_sim.particle_invlat_axis,\n",
    "    disp_sim.particle_energy_axis,\n",
    "    indexing='ij'\n",
    ")"
   ]
  },
  {
   "cell_type": "code",
   "execution_count": null,
   "id": "3",
   "metadata": {},
   "outputs": [],
   "source": [
    "mp = 1.6726e-24\n",
    "me = 9.1094e-28\n",
    "energy1eV = 1.6022e-12\n",
    "cspeed = 2.9979e10\n",
    "kb = 1.3807e-16\n",
    "re = 6378.14*1e5\n",
    "echarge = 4.8032e-10\n",
    "species = 'ion'\n",
    "temp_fac = 7\n"
   ]
  },
  {
   "cell_type": "code",
   "execution_count": null,
   "id": "4",
   "metadata": {},
   "outputs": [],
   "source": [
    "density = hist.extra_fields['n']\n",
    "vx = hist.extra_fields['ux']*1e5\n",
    "vy = hist.extra_fields['uy']*1e5\n",
    "vz = hist.extra_fields['uz']*1e5\n",
    "pressure = hist.extra_fields['p']*1e-9*10\n",
    "\n",
    "jx = hist.extra_fields['jx']*1e-6*3e9\n",
    "jy = hist.extra_fields['jy']*1e-6*3e9\n",
    "jz = hist.extra_fields['jz']*1e-6*3e9\n",
    "\n",
    "bx = hist.extra_fields['Bx']*1e-9*1e4\n",
    "by = hist.extra_fields['By']*1e-9*1e4\n",
    "bz = hist.extra_fields['Bz']*1e-9*1e4\n",
    "\n",
    "bmag = np.sqrt(bx**2+by**2+bz**2)\n",
    "bhatx = bx/(bmag+1e-30)\n",
    "bhaty = by/(bmag+1e-30)\n",
    "bhatz = bz/(bmag+1e-30)\n",
    "\n",
    "jpar = jx*bhatx+jy*bhaty+jz*bhatz\n",
    "jperp_x = jx-jpar*bhatx\n",
    "jperp_y = jy-jpar*bhaty\n",
    "jperp_z = jz-jpar*bhatz\n",
    "jperp = np.sqrt(jperp_x**2+jperp_y**2+jperp_z**2)"
   ]
  },
  {
   "cell_type": "code",
   "execution_count": null,
   "id": "5",
   "metadata": {},
   "outputs": [],
   "source": [
    "\n",
    "import tqdm\n",
    "\n",
    "efluxes = np.nan * np.zeros(particle_energy.size)\n",
    "nmaxes = np.nan * np.zeros(particle_energy.size)\n",
    "fdists = np.nan * np.zeros(particle_energy.size)\n",
    "\n",
    "for i in tqdm.tqdm(range(particle_energy.size)):\n",
    "    energy = particle_energy.flatten()[i].to_value(units.eV)\n",
    "    end_idx = np.searchsorted(hist.stopped[:, i], 1)\n",
    "    if end_idx == particle_energy.shape[0]:\n",
    "        continue\n",
    "    \n",
    "    nsrc = density[:end_idx, i]\n",
    "    psrc = pressure[:end_idx, i]\n",
    "    bsrc = bmag[:end_idx, i]\n",
    "    jsrc = jperp[:end_idx, i]\n",
    "\n",
    "    nsrc = nsrc[::-1]\n",
    "    psrc = psrc[::-1]\n",
    "    bsrc = bsrc[::-1]\n",
    "    jsrc = jsrc[::-1]\n",
    "\n",
    "    temp_ion = psrc/nsrc/energy1eV*temp_fac/(1.+temp_fac)\n",
    "    vth_ion = np.sqrt(psrc/nsrc/mp*temp_fac/(1.+temp_fac))\n",
    "    valf_ion = bsrc/np.sqrt(4.*np.pi*nsrc*mp)\n",
    "\n",
    "    temp_ele = psrc/nsrc/energy1eV/(1.+temp_fac)\n",
    "    vth_ele = np.sqrt(psrc/nsrc/me/(1.+temp_fac))\n",
    "    valf_ele = bsrc/np.sqrt(4.*np.pi/nsrc*me)\n",
    "\n",
    "    if species == 'ele':\n",
    "        temp = temp_ele\n",
    "        vth = vth_ele\n",
    "        valf = valf_ele\n",
    "        mass = me\n",
    "    elif species == 'ion':\n",
    "        temp = temp_ion\n",
    "        vth = vth_ion\n",
    "        valf = valf_ion\n",
    "        mass = mp\n",
    "    \n",
    "    \"\"\" impulsive BGK model \"\"\"\n",
    "    idx_peaks = signal.find_peaks(jsrc)[0]\n",
    "    eps = jsrc/nsrc/echarge*vth_ion/valf_ion**2\n",
    "    idx_eps = np.where(eps >= 0.1)[0]\n",
    "    idx = np.intersect1d(idx_peaks, idx_eps)\n",
    "    nmax = len(idx)\n",
    "    \n",
    "    if nmax == 0:\n",
    "        idx = 0\n",
    "        fdist = nsrc[idx]/vth[idx]**3./(2.*np.pi)**(3./2.)*np.exp(-energy/temp[idx])\n",
    "        eflux = 2.*(energy*energy1eV)**2/mass**2*fdist\n",
    "    else:\n",
    "        fdist = nsrc[0]/vth[0]**3./(2.*np.pi)**(3./2.)*np.exp(-energy/temp[0])*np.exp(-nmax)\n",
    "        eflux = 2.*(energy*energy1eV)**2/mass**2*fdist\n",
    "        for ii in range(nmax):\n",
    "            fd = nsrc[idx[ii]]/vth[idx[ii]]**3./(2.*np.pi)**(3./2.)*np.exp(-energy/temp[idx[ii]])\n",
    "            ef = 2.*(energy*energy1eV)**2/mass**2*fd\n",
    "            fdist = fdist + fd*np.exp(-(nmax-1-ii))\n",
    "            eflux = eflux + ef\n",
    "\n",
    "    efluxes[i] = eflux\n",
    "    nmaxes[i] = nmax\n",
    "    fdists[i] = fdist"
   ]
  },
  {
   "cell_type": "code",
   "execution_count": null,
   "id": "6",
   "metadata": {},
   "outputs": [],
   "source": [
    "plt.pcolor(np.degrees(particle_inv_lat), particle_energy, np.log10(nmaxes).reshape(particle_inv_lat.shape))\n",
    "plt.yscale('log')\n",
    "plt.colorbar().set_label('Log10(nmax)')\n",
    "plt.xlabel('Invariant Magnetic Latitude (degrees)')\n",
    "plt.ylabel('Energy (eV)')"
   ]
  },
  {
   "cell_type": "code",
   "execution_count": null,
   "id": "7",
   "metadata": {},
   "outputs": [],
   "source": [
    "plt.pcolor(np.degrees(particle_inv_lat), particle_energy, efluxes.reshape(particle_inv_lat.shape), vmax=1e9)\n",
    "plt.yscale('log')\n",
    "plt.colorbar()\n",
    "plt.title('Ion Flux')\n",
    "plt.xlabel('Invariant Magnetic Latitude (degrees)')\n",
    "plt.ylabel('Energy (eV)')"
   ]
  }
 ],
 "metadata": {
  "kernelspec": {
   "display_name": "disco",
   "language": "python",
   "name": "python3"
  },
  "language_info": {
   "codemirror_mode": {
    "name": "ipython",
    "version": 3
   },
   "file_extension": ".py",
   "mimetype": "text/x-python",
   "name": "python",
   "nbconvert_exporter": "python",
   "pygments_lexer": "ipython3",
   "version": "3.11.12"
  }
 },
 "nbformat": 4,
 "nbformat_minor": 5
}
