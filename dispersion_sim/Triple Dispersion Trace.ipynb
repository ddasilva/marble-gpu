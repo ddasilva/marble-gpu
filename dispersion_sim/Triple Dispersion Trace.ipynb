{
 "cells": [
  {
   "cell_type": "code",
   "execution_count": null,
   "id": "0",
   "metadata": {},
   "outputs": [],
   "source": [
    "import os\n",
    "\n",
    "import numpy as np\n",
    "import h5py\n",
    "from matplotlib import pyplot as plt\n",
    "from astropy import units as u\n",
    "import time\n",
    "import pandas as pd\n",
    "\n",
    "import disco\n",
    "from disco import readers\n",
    "\n",
    "import cupy \n",
    "cupy.cuda.runtime.setDevice(3)\n",
    "\n",
    "import utils"
   ]
  },
  {
   "cell_type": "markdown",
   "id": "1",
   "metadata": {},
   "source": [
    "# Load Regridded File"
   ]
  },
  {
   "cell_type": "code",
   "execution_count": null,
   "id": "2",
   "metadata": {},
   "outputs": [],
   "source": [
    "dataset = readers.SwmfOutFieldModelDataset(\n",
    "    '/home/dedasilv/swmf_test_data2/3d__var_4_t00032600_n00024087.out',\n",
    "    plasma_params=True,\n",
    "    grid_downsample=1\n",
    ")\n",
    "field_model = dataset[0].duplicate_in_time()"
   ]
  },
  {
   "cell_type": "code",
   "execution_count": null,
   "id": "3",
   "metadata": {},
   "outputs": [],
   "source": [
    "field_model.extra_fields.keys()"
   ]
  },
  {
   "cell_type": "markdown",
   "id": "4",
   "metadata": {},
   "source": [
    "# Make ParticleState"
   ]
  },
  {
   "cell_type": "code",
   "execution_count": null,
   "id": "5",
   "metadata": {},
   "outputs": [],
   "source": [
    "disp_sim = utils.setup_dispersion_sim()"
   ]
  },
  {
   "cell_type": "code",
   "execution_count": null,
   "id": "6",
   "metadata": {},
   "outputs": [],
   "source": [
    "disp_sim.particle_state.x.shape"
   ]
  },
  {
   "cell_type": "code",
   "execution_count": null,
   "id": "7",
   "metadata": {},
   "outputs": [],
   "source": [
    "plt.plot(disp_sim.particle_state.x.get(), disp_sim.particle_state.z.get(), '.')\n",
    "plt.gca().set_aspect('equal')"
   ]
  },
  {
   "cell_type": "markdown",
   "id": "8",
   "metadata": {},
   "source": [
    "# Make a TraceConfig"
   ]
  },
  {
   "cell_type": "code",
   "execution_count": null,
   "id": "9",
   "metadata": {},
   "outputs": [],
   "source": [
    "config = disco.TraceConfig(\n",
    "    t_final=-5 * u.hr,\n",
    "    rtol=1e-3,\n",
    "    integrate_backwards=True,\n",
    "    iters_max=10000,\n",
    "    output_freq=1,\n",
    ")"
   ]
  },
  {
   "cell_type": "markdown",
   "id": "10",
   "metadata": {},
   "source": [
    "# Perform Traces"
   ]
  },
  {
   "cell_type": "code",
   "execution_count": null,
   "id": "11",
   "metadata": {},
   "outputs": [],
   "source": [
    "fname = 'triple_dispersion.h5'\n",
    "\n",
    "if os.path.exists(fname):\n",
    "    hist = disco.ParticleHistory.load(fname)\n",
    "else:\n",
    "    start_time = time.time()\n",
    "    hist = disco.trace_trajectory(config, disp_sim.particle_state, field_model, verbose=1)\n",
    "    print('took', time.time() - start_time, 's')\n",
    "    hist.save(fname)\n",
    "    print(f\"Wrote {fname}\")"
   ]
  },
  {
   "cell_type": "markdown",
   "id": "12",
   "metadata": {},
   "source": [
    "# Plotting"
   ]
  },
  {
   "cell_type": "code",
   "execution_count": null,
   "id": "13",
   "metadata": {},
   "outputs": [],
   "source": [
    "current_density = np.log10(np.sqrt(field_model.extra_fields['jx']**2 + field_model.extra_fields['jy']**2 + field_model.extra_fields['jz']**2))"
   ]
  },
  {
   "cell_type": "code",
   "execution_count": null,
   "id": "14",
   "metadata": {},
   "outputs": [],
   "source": [
    "\n",
    "ax = hist.plot_xz(sample=500)\n",
    "i = field_model.axes.y.value.searchsorted(0)\n",
    "im = ax.pcolor(field_model.axes.x.value, field_model.axes.z.value, current_density[:, i, :, 0].T)\n",
    "ax.set_xlim([-30, 30])\n",
    "ax.set_ylim([-30, 30])\n",
    "plt.colorbar(im).set_label('Current Density (log)')"
   ]
  },
  {
   "cell_type": "code",
   "execution_count": null,
   "id": "15",
   "metadata": {},
   "outputs": [],
   "source": [
    "ax = hist.plot_xy(sample=500)\n",
    "i = field_model.axes.z.value.searchsorted(0)\n",
    "im = ax.pcolor(field_model.axes.x.value, field_model.axes.y.value, current_density[:, :, i, 0].T)\n",
    "#ax.set_xlim([-30, 30])\n",
    "#ax.set_ylim([-30, 30])\n",
    "plt.colorbar(im).set_label('Current Density (log)')"
   ]
  }
 ],
 "metadata": {
  "kernelspec": {
   "display_name": "disco",
   "language": "python",
   "name": "python3"
  },
  "language_info": {
   "codemirror_mode": {
    "name": "ipython",
    "version": 3
   },
   "file_extension": ".py",
   "mimetype": "text/x-python",
   "name": "python",
   "nbconvert_exporter": "python",
   "pygments_lexer": "ipython3",
   "version": "3.11.12"
  }
 },
 "nbformat": 4,
 "nbformat_minor": 5
}
